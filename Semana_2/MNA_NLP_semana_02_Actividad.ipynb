{
  "cells": [
    {
      "attachments": {},
      "cell_type": "markdown",
      "metadata": {
        "id": "759SG4TyfbUn"
      },
      "source": [
        "# **Maestría en Inteligencia Artificial Aplicada**\n",
        "## **Curso: Procesamiento de Lenguaje Natural (NLP)**\n",
        "### Tecnológico de Monterrey\n",
        "### Prof Luis Eduardo Falcón Morales\n",
        "#### Estudiante: Walter André Hauri Rosales\n",
        "#### Matrícula: A01794237\n",
        "\n",
        "## **Adtividad de la Semana 02**\n",
        "### **Introducción al procesamiento de texto.**"
      ]
    },
    {
      "cell_type": "markdown",
      "metadata": {
        "id": "6ue1YAKx3XDo"
      },
      "source": [
        "En esta actividad deberás utilizar los datos del siguiente archivo que se encuentra en Canvas:\n",
        "\n",
        "MNA_NLP_semana_02_Actividad_datos.txt\n",
        "\n",
        "El archivo contiene comentarios en inglés sobre servicios de comida de la página de Yelp: https://www.yelp.com/ . \n",
        "\n",
        "Son mil comentarios y forman parte del conjunto de datos que se encuentra en el Machine Learning Repository de la UCI, llamado \"Sentiment Labelled Sentences\": https://archive.ics.uci.edu/ml/datasets/Sentiment+Labelled+Sentences#\n"
      ]
    },
    {
      "attachments": {},
      "cell_type": "markdown",
      "metadata": {
        "id": "Zj-h4drXD-X9"
      },
      "source": [
        "# **Parte 1. Cargamos los datos.**   "
      ]
    },
    {
      "attachments": {},
      "cell_type": "markdown",
      "metadata": {
        "id": "BY6yifxscfrx"
      },
      "source": [
        "Cargar los datos del archivo indicado y obtener una lista de longitud de 1000 strings/comentarios. \n",
        "\n",
        "Por el momento solamente requerimos las bibliotecas de Numpy y re, para el manejo de los arreglos y de las expresiones regulares en Python.\n",
        "\n",
        "En particular, no necesitarás en esta actividad la biblioteca de Pandas.\n",
        "\n",
        "### **NOTA: En esta actividad no debes importar nada más, con estas dos bibliotecas será *suficiente*.**"
      ]
    },
    {
      "cell_type": "code",
      "execution_count": 519,
      "metadata": {
        "id": "OJ26dAfhdFnf"
      },
      "outputs": [],
      "source": [
        "import numpy as np    # importamos Numpy para el manejo de los arreglos.\n",
        "import re             # importamos re para el manejo de las expresiones regulares."
      ]
    },
    {
      "cell_type": "code",
      "execution_count": 520,
      "metadata": {
        "id": "QHUmJyjDdGNP"
      },
      "outputs": [],
      "source": [
        "# Ejecuta las siguientes instrucciones para cargar la información del achivo dado:\n",
        "\n",
        "with open('MNA_NLP_semana_02_Actividad_datos.txt',        # puedes actualizar la ruta a tu archivo, en dado caso.\n",
        "          mode='r',     # abrimos el archivo en modo lectura.\n",
        "          encoding=\"utf-8\", # Working with windows make cause problems\n",
        "          ) as f:\n",
        "    docs = f.readlines()    # separamos cada comentario por líneas\n",
        "\n",
        "f.close()  # ya que tenemos la información en la variable docs, cerramos el archivo"
      ]
    },
    {
      "cell_type": "code",
      "execution_count": 521,
      "metadata": {
        "id": "L6WzrSrodG-Y"
      },
      "outputs": [
        {
          "data": {
            "text/plain": [
              "True"
            ]
          },
          "execution_count": 521,
          "metadata": {},
          "output_type": "execute_result"
        }
      ],
      "source": [
        "type(docs) == list   # Verifica que tu variable \"docs\" es una lista"
      ]
    },
    {
      "cell_type": "code",
      "execution_count": 522,
      "metadata": {
        "id": "QIK1u9WS2FtS"
      },
      "outputs": [
        {
          "data": {
            "text/plain": [
              "True"
            ]
          },
          "execution_count": 522,
          "metadata": {},
          "output_type": "execute_result"
        }
      ],
      "source": [
        "len(docs)==1000  # verifica que la longitud de \"docs\" es de mil comentarios."
      ]
    },
    {
      "cell_type": "code",
      "execution_count": 523,
      "metadata": {
        "id": "9AMLIfQvJqNZ"
      },
      "outputs": [
        {
          "data": {
            "text/plain": [
              "['Wow... Loved this place.\\n',\n",
              " 'Crust is not good.\\n',\n",
              " 'Not tasty and the texture was just nasty.\\n',\n",
              " 'Stopped by during the late May bank holiday off Rick Steve recommendation and loved it.\\n',\n",
              " 'The selection on the menu was great and so were the prices.\\n',\n",
              " 'Now I am getting angry and I want my damn pho.\\n',\n",
              " \"Honeslty it didn't taste THAT fresh.)\\n\",\n",
              " 'The potatoes were like rubber and you could tell they had been made up ahead of time being kept under a warmer.\\n',\n",
              " 'The fries were great too.\\n',\n",
              " 'A great touch.\\n']"
            ]
          },
          "execution_count": 523,
          "metadata": {},
          "output_type": "execute_result"
        }
      ],
      "source": [
        "docs[0:10]     # observa algunos de los primeros comentarios"
      ]
    },
    {
      "attachments": {},
      "cell_type": "markdown",
      "metadata": {
        "id": "k_ewoagic5jc"
      },
      "source": [
        "# **Parte 2: sección de preguntas (regex).**   \n"
      ]
    },
    {
      "attachments": {},
      "cell_type": "markdown",
      "metadata": {
        "id": "X-eMJa3DFCIV"
      },
      "source": [
        "## **Instrucciones:**\n",
        "\n",
        "### **A continuación deberás contestar cada una de las preguntas que te piden usando expresiones regulares (regex).**\n",
        "\n",
        "### **Por el momento no hay restricción en cuanto al número de líneas de código que agregues, pero trata de incluir las mínimas posibles.**"
      ]
    },
    {
      "cell_type": "markdown",
      "metadata": {
        "id": "78nJMemzn5a5"
      },
      "source": [
        "*   **Pregunta 1.** \n",
        "\n",
        "Busca y elimina todos los saltos de línea '\\n' que se encuentran al final de cada comentario. \n",
        "\n",
        "Una vez finalizado, imprime los primeros 10 comentarios del resultado obtenido.\n"
      ]
    },
    {
      "cell_type": "code",
      "execution_count": 524,
      "metadata": {
        "id": "PwbYYIuZn8pE"
      },
      "outputs": [],
      "source": [
        "# Look and remove all the line breaks at the end of the strings\n",
        "pattern = r\"(.+)\\n$\" # Get everything except the last line break if exists\n",
        "\n",
        "# Remove \n",
        "docs_1 = [\"\".join(results) for line in docs if len((results := re.findall(pattern, line))) > 0]\n",
        "# Alternative using rstrip\n",
        "docs_1_alternative = [line.rstrip(\"\\n\") for line in docs]"
      ]
    },
    {
      "cell_type": "code",
      "execution_count": 525,
      "metadata": {
        "id": "j-0qeh2Jn8l1"
      },
      "outputs": [
        {
          "name": "stdout",
          "output_type": "stream",
          "text": [
            "['Wow... Loved this place.', 'Crust is not good.', 'Not tasty and the texture was just nasty.', 'Stopped by during the late May bank holiday off Rick Steve recommendation and loved it.', 'The selection on the menu was great and so were the prices.', 'Now I am getting angry and I want my damn pho.', \"Honeslty it didn't taste THAT fresh.)\", 'The potatoes were like rubber and you could tell they had been made up ahead of time being kept under a warmer.', 'The fries were great too.', 'A great touch.']\n",
            "['Wow... Loved this place.', 'Crust is not good.', 'Not tasty and the texture was just nasty.', 'Stopped by during the late May bank holiday off Rick Steve recommendation and loved it.', 'The selection on the menu was great and so were the prices.', 'Now I am getting angry and I want my damn pho.', \"Honeslty it didn't taste THAT fresh.)\", 'The potatoes were like rubber and you could tell they had been made up ahead of time being kept under a warmer.', 'The fries were great too.', 'A great touch.']\n"
          ]
        }
      ],
      "source": [
        "print(docs_1[:10])\n",
        "print(docs_1_alternative[:10])\n",
        "\n",
        "# At least for the first 10 items, returns the same"
      ]
    },
    {
      "cell_type": "markdown",
      "metadata": {
        "id": "VWeKQC93ctEo"
      },
      "source": [
        "*   **Pregunta 2.**  \n",
        "\n",
        "Busca e imprime todas las palabras que terminan con dos o más signos de admiración seguidos, por ejemplo \"!!!\". \n",
        "\n",
        "Debes imprimir tanto la palabra como la totalidad de signos de admiración que le siguen. \n",
        "\n",
        "Indica cuántos resultados obtuviste.\n",
        "\n"
      ]
    },
    {
      "cell_type": "code",
      "execution_count": 526,
      "metadata": {
        "id": "0p3kMXfddICc"
      },
      "outputs": [],
      "source": [
        "# Search for all the words that ends with two or more '!' symbols\n",
        "pattern = r\"(?:\\s|\\A)+(\\S+!{2,})(?:\\s|\\Z)+\" # Remember that \\s matches any unicode pattern, as in the following example, thats is not a whitespace character"
      ]
    },
    {
      "attachments": {},
      "cell_type": "markdown",
      "metadata": {},
      "source": [
        "Example"
      ]
    },
    {
      "cell_type": "code",
      "execution_count": 527,
      "metadata": {},
      "outputs": [
        {
          "data": {
            "text/plain": [
              "['dinero!!!!', '!!!acá!!!!', 'demás!!!']"
            ]
          },
          "execution_count": 527,
          "metadata": {},
          "output_type": "execute_result"
        }
      ],
      "source": [
        "s = \"Hola! Mucho dinero!!!! Por !!!acá!!!! y demás!!! punto\"\n",
        "re.findall(pattern, s)"
      ]
    },
    {
      "cell_type": "code",
      "execution_count": 528,
      "metadata": {
        "id": "SPVM1MCWdH6Z"
      },
      "outputs": [],
      "source": [
        "docs_2 = [\"\".join(results) for line in docs if len((results := re.findall(pattern, line))) > 0]\n",
        "# Alternative with pattern only admit word-characters\n",
        "docs_2_alternative = [\"\".join(results) for line in docs if len((results := re.findall(r\"\\s*(\\w+!{2,})(?:\\s|\\Z)+\", line))) > 0]"
      ]
    },
    {
      "cell_type": "code",
      "execution_count": 529,
      "metadata": {},
      "outputs": [
        {
          "name": "stdout",
          "output_type": "stream",
          "text": [
            "Number of result from the (complete) filter: 23. Compared with the (incomplete) one: 22\n"
          ]
        }
      ],
      "source": [
        "print(f\"Number of result from the (complete) filter: {len(docs_2)}. Compared with the (incomplete) one: {len(docs_2_alternative)}\")"
      ]
    },
    {
      "cell_type": "code",
      "execution_count": 530,
      "metadata": {},
      "outputs": [
        {
          "data": {
            "text/plain": [
              "['Firehouse!!!!!',\n",
              " 'APPETIZERS!!!',\n",
              " 'amazing!!!',\n",
              " 'buffet!!!',\n",
              " 'good!!',\n",
              " 'it!!!!',\n",
              " 'DELICIOUS!!',\n",
              " 'amazing!!',\n",
              " 'shawarrrrrrma!!!!!!',\n",
              " 'yucky!!!',\n",
              " 'delicious!!!',\n",
              " 'far!!',\n",
              " 'biscuits!!!',\n",
              " 'disappointing!!!',\n",
              " '!!!',\n",
              " 'awesome!!',\n",
              " 'Up!!',\n",
              " 'FLY!!!!!!!!',\n",
              " 'great!!!!!!!!!!!!!!',\n",
              " 'packed!!',\n",
              " 'amazing!!!!!!!!!!!!!!!!!!!',\n",
              " 'style!!',\n",
              " 'disappointed!!']"
            ]
          },
          "execution_count": 530,
          "metadata": {},
          "output_type": "execute_result"
        }
      ],
      "source": [
        "docs_2"
      ]
    },
    {
      "cell_type": "code",
      "execution_count": 531,
      "metadata": {},
      "outputs": [
        {
          "data": {
            "text/plain": [
              "['Firehouse!!!!!',\n",
              " 'APPETIZERS!!!',\n",
              " 'amazing!!!',\n",
              " 'buffet!!!',\n",
              " 'good!!',\n",
              " 'it!!!!',\n",
              " 'DELICIOUS!!',\n",
              " 'amazing!!',\n",
              " 'shawarrrrrrma!!!!!!',\n",
              " 'yucky!!!',\n",
              " 'delicious!!!',\n",
              " 'far!!',\n",
              " 'biscuits!!!',\n",
              " 'disappointing!!!',\n",
              " 'awesome!!',\n",
              " 'Up!!',\n",
              " 'FLY!!!!!!!!',\n",
              " 'great!!!!!!!!!!!!!!',\n",
              " 'packed!!',\n",
              " 'amazing!!!!!!!!!!!!!!!!!!!',\n",
              " 'style!!',\n",
              " 'disappointed!!']"
            ]
          },
          "execution_count": 531,
          "metadata": {},
          "output_type": "execute_result"
        }
      ],
      "source": [
        "docs_2_alternative"
      ]
    },
    {
      "cell_type": "markdown",
      "metadata": {
        "id": "-s3okBqL96TT"
      },
      "source": [
        "*   **Pregunta 3.**  \n",
        "\n",
        "Busca e imprime todas las palabras que están escritas totalmente en mayúsculas. Cada coincidencia debe ser una sola palabra.\n",
        "\n",
        "Indica cuántas palabras encontraste.\n",
        "\n"
      ]
    },
    {
      "cell_type": "code",
      "execution_count": 532,
      "metadata": {
        "id": "yKHJkZKo_nW5"
      },
      "outputs": [],
      "source": [
        "# Search for words completely written in upper case\n",
        "pattern = r\"(?:\\s|\\A)+([A-Z]+)(?:\\s|\\Z)+\" # Just accept words in ASCII upper case"
      ]
    },
    {
      "attachments": {},
      "cell_type": "markdown",
      "metadata": {},
      "source": [
        "Example"
      ]
    },
    {
      "cell_type": "code",
      "execution_count": 533,
      "metadata": {
        "id": "L3q08aq69sNn"
      },
      "outputs": [
        {
          "data": {
            "text/plain": [
              "['HI', 'MUCHO', 'POR', 'Y', 'PUNTO']"
            ]
          },
          "execution_count": 533,
          "metadata": {},
          "output_type": "execute_result"
        }
      ],
      "source": [
        "s = \"HI Hola! MUCHO dinero!!!! POR !!!acá!!!! Y demás!!! PUNTO\"\n",
        "re.findall(pattern, s)"
      ]
    },
    {
      "cell_type": "code",
      "execution_count": 534,
      "metadata": {},
      "outputs": [
        {
          "name": "stdout",
          "output_type": "stream",
          "text": [
            "Number of words found: 311\n"
          ]
        }
      ],
      "source": [
        "docs_3_array = [results for line in docs if len((results := re.findall(pattern, line))) > 0]\n",
        "docs_3 = [] # Empty array where to save all words\n",
        "# Iterate over each line and add all matches as independent words\n",
        "for d in docs_3_array:\n",
        "    docs_3.extend(d)\n",
        "print(f\"Number of words found: {len(docs_3)}\")"
      ]
    },
    {
      "cell_type": "code",
      "execution_count": 535,
      "metadata": {},
      "outputs": [
        {
          "data": {
            "text/plain": [
              "['I', 'I', 'I', 'I', 'I', 'I', 'I', 'NEVER', 'I', 'I', 'I', 'I', 'I', 'I', 'A']"
            ]
          },
          "execution_count": 535,
          "metadata": {},
          "output_type": "execute_result"
        }
      ],
      "source": [
        "from random import choice\n",
        "[choice(docs_3) for i in range(15)]"
      ]
    },
    {
      "cell_type": "markdown",
      "metadata": {
        "id": "GX8eYyDoMZma"
      },
      "source": [
        "*   **Pregunta 4.**  \n",
        "\n",
        "Busca e imprime los comentarios en donde todos los caracteres alfabéticos (letras) están en mayúsculas. \n",
        "\n",
        "Cada coincidencia encontrada debe ser todo el comentario/enunciado.\n",
        "\n",
        "Indica cuántos resultados obtuviste.\n"
      ]
    },
    {
      "cell_type": "code",
      "execution_count": 536,
      "metadata": {
        "id": "K8VuZxvTMYj6"
      },
      "outputs": [],
      "source": [
        "# Comments all in upper case\n",
        "pattern = r\"^((?:[^a-z]|\\s)+)$\""
      ]
    },
    {
      "cell_type": "code",
      "execution_count": 537,
      "metadata": {
        "id": "PmKgX7sCMcDx"
      },
      "outputs": [
        {
          "name": "stdout",
          "output_type": "stream",
          "text": [
            "Original: [] with upper: ['HI HOLA! MUCHO DINERO!!!! POR !!!ACÁ!!!! Y DEMÁS!!! PUNTO'] with one lower: []\n"
          ]
        }
      ],
      "source": [
        "s = \"HI Hola! MUCHO dinero!!!! POR !!!acá!!!! Y demás!!! PUNTO\"\n",
        "s_upp = s.upper()\n",
        "s_not_upp = s_upp + \"a\"\n",
        "print(f\"Original: {re.findall(pattern, s)} with upper: {re.findall(pattern, s_upp)} with one lower: {re.findall(pattern, s_not_upp)}\")"
      ]
    },
    {
      "cell_type": "code",
      "execution_count": 538,
      "metadata": {},
      "outputs": [
        {
          "name": "stdout",
          "output_type": "stream",
          "text": [
            "Number of comments found: 5\n"
          ]
        }
      ],
      "source": [
        "docs_4 = [\"\".join(results) for line in docs if len((results := re.findall(pattern, line))) > 0]\n",
        "print(f\"Number of comments found: {len(docs_4)}\")"
      ]
    },
    {
      "cell_type": "code",
      "execution_count": 539,
      "metadata": {},
      "outputs": [
        {
          "data": {
            "text/plain": [
              "['DELICIOUS!!\\n',\n",
              " 'RUDE & INCONSIDERATE MANAGEMENT.\\n',\n",
              " 'WILL NEVER EVER GO BACK AND HAVE TOLD MANY PEOPLE WHAT HAD HAPPENED.\\n',\n",
              " 'TOTAL WASTE OF TIME.\\n',\n",
              " 'AVOID THIS ESTABLISHMENT!\\n']"
            ]
          },
          "execution_count": 539,
          "metadata": {},
          "output_type": "execute_result"
        }
      ],
      "source": [
        "docs_4"
      ]
    },
    {
      "cell_type": "markdown",
      "metadata": {
        "id": "a1i6qv7-McmU"
      },
      "source": [
        "*   **Pregunta 5.**  \n",
        "\n",
        "Busca e imprime todas las palabras que tengan una vocal acentuada, del tipo á, é, í, ó, ú. \n",
        "\n",
        "Indica cuántos resultados obtuviste."
      ]
    },
    {
      "cell_type": "code",
      "execution_count": 540,
      "metadata": {
        "id": "nZZ5zKUOMeGD"
      },
      "outputs": [],
      "source": [
        "# Search for words with just one lower vowel with '´'\n",
        "pattern = r\"(?:\\s|\\A)+([^áéíóú\\s]*[áéíóú][^áéíóú\\s]*)(?:\\s|\\Z)+\" # Match words"
      ]
    },
    {
      "attachments": {},
      "cell_type": "markdown",
      "metadata": {},
      "source": [
        "Example"
      ]
    },
    {
      "cell_type": "code",
      "execution_count": 541,
      "metadata": {
        "id": "l1mFvUEZMe8s"
      },
      "outputs": [
        {
          "data": {
            "text/plain": [
              "['!!!acá!!!!', 'demás!!!', 'mésa']"
            ]
          },
          "execution_count": 541,
          "metadata": {},
          "output_type": "execute_result"
        }
      ],
      "source": [
        "s = \"HI Hola! MUCHO dinero!!!! POR !!!acá!!!! Y demás!!! PUNTO mésa állá\"\n",
        "re.findall(pattern, s)"
      ]
    },
    {
      "cell_type": "code",
      "execution_count": 542,
      "metadata": {},
      "outputs": [
        {
          "name": "stdout",
          "output_type": "stream",
          "text": [
            "Number of words found: 3\n"
          ]
        }
      ],
      "source": [
        "docs_5_array = [results for line in docs if len((results := re.findall(pattern, line))) > 0]\n",
        "docs_5 = [] # Empty array where to save all words\n",
        "# Iterate over each line and add all matches as independent words\n",
        "for d in docs_5_array:\n",
        "    docs_5.extend(d)\n",
        "print(f\"Number of words found: {len(docs_5)}\")"
      ]
    },
    {
      "cell_type": "code",
      "execution_count": 543,
      "metadata": {},
      "outputs": [
        {
          "name": "stdout",
          "output_type": "stream",
          "text": [
            "['fiancé', 'Café', 'puréed.']\n"
          ]
        }
      ],
      "source": [
        "print(docs_5)"
      ]
    },
    {
      "cell_type": "markdown",
      "metadata": {
        "id": "ZmPiAI82Mfb3"
      },
      "source": [
        "*   **Pregunta 6.**  \n",
        "\n",
        "Busca e imprime todas las cantidades numéricas monetarias, enteras o con decimales, que inician con el símbolo $\\$$. \n",
        "\n",
        "Indica cuántos resultados obtuviste."
      ]
    },
    {
      "cell_type": "code",
      "execution_count": 544,
      "metadata": {
        "id": "6vhe9-Y-MhL9"
      },
      "outputs": [],
      "source": [
        "# Search for words values with the '$' symbol\n",
        "pattern = r\"(?:\\s|\\A)+(\\$\\d{1,}(?:\\.\\d{1,})?)(?:\\S*)(?:\\s|\\Z)+\" # Match words"
      ]
    },
    {
      "attachments": {},
      "cell_type": "markdown",
      "metadata": {},
      "source": [
        "Example"
      ]
    },
    {
      "cell_type": "code",
      "execution_count": 545,
      "metadata": {
        "id": "_t0a5xWDMhQ5"
      },
      "outputs": [
        {
          "data": {
            "text/plain": [
              "['$127', '$0.19', '$1.59']"
            ]
          },
          "execution_count": 545,
          "metadata": {},
          "output_type": "execute_result"
        }
      ],
      "source": [
        "s = \"HI Hola! MUCHO dinero!!!! $127 pesos POR $0.19, o $1.59USD !!!acá!!!! Y demás!!! PUNTO mésa állá\"\n",
        "re.findall(pattern, s)"
      ]
    },
    {
      "cell_type": "code",
      "execution_count": 546,
      "metadata": {},
      "outputs": [
        {
          "name": "stdout",
          "output_type": "stream",
          "text": [
            "Number of matches found: 8\n"
          ]
        }
      ],
      "source": [
        "docs_6_array = [results for line in docs if len((results := re.findall(pattern, line))) > 0]\n",
        "docs_6 = [] # Empty array where to save all words\n",
        "# Iterate over each line and add all matches as independent words\n",
        "for d in docs_6_array:\n",
        "    docs_6.extend(d)\n",
        "\n",
        "print(f\"Number of matches found: {len(docs_6)}\")"
      ]
    },
    {
      "cell_type": "code",
      "execution_count": 547,
      "metadata": {},
      "outputs": [
        {
          "data": {
            "text/plain": [
              "['$20', '$4.00', '$17', '$3', '$35', '$7.85', '$12', '$11.99']"
            ]
          },
          "execution_count": 547,
          "metadata": {},
          "output_type": "execute_result"
        }
      ],
      "source": [
        "docs_6"
      ]
    },
    {
      "cell_type": "markdown",
      "metadata": {
        "id": "2j-HpvhwMhq2"
      },
      "source": [
        "*   **Pregunta 7.**  \n",
        "\n",
        "Busca e imprime todas las palabras que sean variantes de la palabra \"love\", sin importar si incluyen mayúsculas o minúsculas, o la manera en que esté conjugada o alguna otra variación que se haga con dicha palabra.\n",
        "\n",
        "Indica cuántos resultados obtuviste."
      ]
    },
    {
      "cell_type": "code",
      "execution_count": 548,
      "metadata": {
        "id": "kqqyRChVMjol"
      },
      "outputs": [],
      "source": [
        "# Search for variations of 'love'\n",
        "pattern = r\"(?:\\s|\\A)+([1Ll]+[o0O]+[vV]+[eE3]+\\w*)\\S*(?:\\s|\\Z)+\" # Match words"
      ]
    },
    {
      "attachments": {},
      "cell_type": "markdown",
      "metadata": {},
      "source": [
        "Example"
      ]
    },
    {
      "cell_type": "code",
      "execution_count": 549,
      "metadata": {
        "id": "UXd0VQluMj_x"
      },
      "outputs": [
        {
          "data": {
            "text/plain": [
              "['Loved', 'l0v3', '1ovvvvvveeeeee']"
            ]
          },
          "execution_count": 549,
          "metadata": {},
          "output_type": "execute_result"
        }
      ],
      "source": [
        "s = \"Loved it... I l0v3 this so much. WIth 1ovvvvvveeeeee\"\n",
        "re.findall(pattern, s)"
      ]
    },
    {
      "cell_type": "code",
      "execution_count": 550,
      "metadata": {},
      "outputs": [
        {
          "name": "stdout",
          "output_type": "stream",
          "text": [
            "Number of matches found: 32\n"
          ]
        }
      ],
      "source": [
        "docs_7_array = [results for line in docs if len((results := re.findall(pattern, line))) > 0]\n",
        "docs_7 = [] # Empty array where to save all words\n",
        "# Iterate over each line and add all matches as independent words\n",
        "for d in docs_7_array:\n",
        "    docs_7.extend(d)\n",
        "\n",
        "print(f\"Number of matches found: {len(docs_7)}\")"
      ]
    },
    {
      "cell_type": "code",
      "execution_count": 551,
      "metadata": {},
      "outputs": [
        {
          "data": {
            "text/plain": [
              "['Loved',\n",
              " 'loved',\n",
              " 'love',\n",
              " 'loves',\n",
              " 'LOVED',\n",
              " 'lovers',\n",
              " 'love',\n",
              " 'lovers',\n",
              " 'loved',\n",
              " 'loved']"
            ]
          },
          "execution_count": 551,
          "metadata": {},
          "output_type": "execute_result"
        }
      ],
      "source": [
        "docs_7[:10]"
      ]
    },
    {
      "cell_type": "markdown",
      "metadata": {
        "id": "Ctb-NTY3MkYG"
      },
      "source": [
        "*   **Pregunta 8.**  \n",
        "\n",
        "Busca e imprime todas las palabras, variantes de \"so\" y \"good\", que tengan dos o más \"o\" en \"so\" y 3 o más \"o\" en good. \n",
        "\n",
        "Indica cuántas encontraste.\n"
      ]
    },
    {
      "cell_type": "code",
      "execution_count": 552,
      "metadata": {
        "id": "A8Nf3B_cMlqg"
      },
      "outputs": [],
      "source": [
        "# Search for variations of 'so' (with 2 or more 'o') and 'good' (with 3 or more 'o')\n",
        "pattern = r\"(?:\\s|\\A)+((?:[Ss][oO]{2,})|(?:[Gg][oO]{3,}[dD]))[\\.,!\\?]*(?:\\s|\\Z)+\" # Match words"
      ]
    },
    {
      "attachments": {},
      "cell_type": "markdown",
      "metadata": {},
      "source": [
        "Example"
      ]
    },
    {
      "cell_type": "code",
      "execution_count": 553,
      "metadata": {},
      "outputs": [
        {
          "data": {
            "text/plain": [
              "['Soo', 'gooood', 'sooooo', 'goood']"
            ]
          },
          "execution_count": 553,
          "metadata": {},
          "output_type": "execute_result"
        }
      ],
      "source": [
        "s = \"Soo gooooood, and so asooon gooood soooop. This is sooooo sooo goood goooood\"\n",
        "re.findall(pattern, s)"
      ]
    },
    {
      "cell_type": "code",
      "execution_count": 554,
      "metadata": {},
      "outputs": [
        {
          "name": "stdout",
          "output_type": "stream",
          "text": [
            "Number of matches found: 4\n"
          ]
        }
      ],
      "source": [
        "docs_8_array = [results for line in docs if len((results := re.findall(pattern, line))) > 0]\n",
        "docs_8 = [] # Empty array where to save all words\n",
        "# Iterate over each line and add all matches as independent words\n",
        "for d in docs_8_array:\n",
        "    docs_8.extend(d)\n",
        "\n",
        "print(f\"Number of matches found: {len(docs_8)}\")"
      ]
    },
    {
      "cell_type": "code",
      "execution_count": 555,
      "metadata": {},
      "outputs": [
        {
          "data": {
            "text/plain": [
              "['Sooooo', 'soooo', 'soooooo', 'soooo']"
            ]
          },
          "execution_count": 555,
          "metadata": {},
          "output_type": "execute_result"
        }
      ],
      "source": [
        "docs_8[:10]"
      ]
    },
    {
      "cell_type": "markdown",
      "metadata": {
        "id": "hkak1opjMmlk"
      },
      "source": [
        "*   **Pregunta 9.**  \n",
        "\n",
        "Busca e imprime todas las palabras que tengan una longitud mayor estrictamente a 10 caracteres alfabéticos.\n",
        "\n",
        "No se consideran los signos de puntuación o caracteres especiales en la longitud de estas cadenas, solo caracteres alfabéticos en mayúsculas o minúsculas.\n",
        "\n",
        "Indica la cantidad de palabras encontradas.\n"
      ]
    },
    {
      "cell_type": "code",
      "execution_count": 556,
      "metadata": {
        "id": "PYxdp3uhMoD0"
      },
      "outputs": [],
      "source": [
        "# Search words longer than 10 alphabetic characters\n",
        "pattern = r\"(?:\\s|\\A)+(?:[^A-Za-z])*((?:[a-zA-Z]){11,})(?:[^A-Za-z])*(?:\\s|\\Z)+\" # Match words"
      ]
    },
    {
      "attachments": {},
      "cell_type": "markdown",
      "metadata": {},
      "source": [
        "Example"
      ]
    },
    {
      "cell_type": "code",
      "execution_count": 557,
      "metadata": {
        "id": "BR7e2F4FMof-"
      },
      "outputs": [
        {
          "data": {
            "text/plain": [
              "['goooooooddddddd', 'asoOOooooaASASAson', 'dSjassdsadSASASahsddDAJNSgooood']"
            ]
          },
          "execution_count": 557,
          "metadata": {},
          "output_type": "execute_result"
        }
      ],
      "source": [
        "s = \"Soo goooooooddddddd, and so asoOOooooaASASAson otra 3dSjassdsadSASASahsddDAJNSgooood soooop. This is sooooo sooo goood goooood\"\n",
        "re.findall(pattern, s)"
      ]
    },
    {
      "cell_type": "code",
      "execution_count": 558,
      "metadata": {},
      "outputs": [
        {
          "name": "stdout",
          "output_type": "stream",
          "text": [
            "Number of words found: 140\n"
          ]
        }
      ],
      "source": [
        "docs_9_array = [results for line in docs if len((results := re.findall(pattern, line))) > 0]\n",
        "docs_9 = [] # Empty array where to save all words\n",
        "# Iterate over each line and add all matches as independent words\n",
        "for d in docs_9_array:\n",
        "    docs_9.extend(d)\n",
        "\n",
        "print(f\"Number of words found: {len(docs_9)}\")"
      ]
    },
    {
      "cell_type": "code",
      "execution_count": 559,
      "metadata": {},
      "outputs": [
        {
          "data": {
            "text/plain": [
              "['recommendation',\n",
              " 'recommended',\n",
              " 'overwhelmed',\n",
              " 'inexpensive',\n",
              " 'establishment',\n",
              " 'imaginative',\n",
              " 'opportunity',\n",
              " 'experiencing',\n",
              " 'underwhelming',\n",
              " 'unsatisfying']"
            ]
          },
          "execution_count": 559,
          "metadata": {},
          "output_type": "execute_result"
        }
      ],
      "source": [
        "docs_9[:10]"
      ]
    },
    {
      "cell_type": "markdown",
      "metadata": {
        "id": "ApjTNzSxMpDc"
      },
      "source": [
        "*   **Pregunta 10.**  \n",
        "\n",
        "Busca e imprime todas las palabras que inician con una letra mayúscula y terminan con una minúscula, pero que además no sea la primera palabra del comentario/string. \n",
        "\n",
        "Indica la cantidad de resultados obtenidos."
      ]
    },
    {
      "cell_type": "code",
      "execution_count": 560,
      "metadata": {
        "id": "Vb0ndRGAMqdL"
      },
      "outputs": [],
      "source": [
        "# Search words that begins with upper and end with lower, and are not the first word in the comment\n",
        "pattern = r\"(?:\\s)+([A-Z]\\w*[a-z])\\S*(?:\\s|\\Z)+\" # Match words"
      ]
    },
    {
      "attachments": {},
      "cell_type": "markdown",
      "metadata": {},
      "source": [
        "Example"
      ]
    },
    {
      "cell_type": "code",
      "execution_count": 561,
      "metadata": {
        "id": "dLPTRPnTMqqx"
      },
      "outputs": [
        {
          "data": {
            "text/plain": [
              "['MaYBe', 'BUt', 'CORRECt']"
            ]
          },
          "execution_count": 561,
          "metadata": {},
          "output_type": "execute_result"
        }
      ],
      "source": [
        "s = \"An example, MaYBe not all. BUt here CORRECt\"\n",
        "re.findall(pattern, s)"
      ]
    },
    {
      "cell_type": "code",
      "execution_count": 562,
      "metadata": {},
      "outputs": [
        {
          "name": "stdout",
          "output_type": "stream",
          "text": [
            "Number of words found: 218\n"
          ]
        }
      ],
      "source": [
        "docs_10_array = [results for line in docs if len((results := re.findall(pattern, line))) > 0]\n",
        "docs_10 = [] # Empty array where to save all words\n",
        "# Iterate over each line and add all matches as independent words\n",
        "for d in docs_10_array:\n",
        "    docs_10.extend(d)\n",
        "\n",
        "print(f\"Number of words found: {len(docs_10)}\")"
      ]
    },
    {
      "cell_type": "code",
      "execution_count": 563,
      "metadata": {},
      "outputs": [
        {
          "data": {
            "text/plain": [
              "['Loved',\n",
              " 'May',\n",
              " 'Rick',\n",
              " 'Cape',\n",
              " 'Vegas',\n",
              " 'Burrittos',\n",
              " 'The',\n",
              " 'They',\n",
              " 'Mexican',\n",
              " 'Luke']"
            ]
          },
          "execution_count": 563,
          "metadata": {},
          "output_type": "execute_result"
        }
      ],
      "source": [
        "docs_10[:10]"
      ]
    },
    {
      "cell_type": "markdown",
      "metadata": {
        "id": "u7nfm4KhMrNW"
      },
      "source": [
        "*   **Pregunta 11.**  \n",
        "\n",
        "Busca e imprime la secuencia de dos o más palabras que están separadas por un guion, \"-\", sin que tengan espacios en blanco entre ellas.\n",
        "\n",
        "Por ejemplo \"Go-Kart\" sería válido, pero \"Go  -Kart\" o \"Go  -  Kart\" no lo serían. \n",
        "\n",
        "Indica la cantidad de resultados obtenidos."
      ]
    },
    {
      "cell_type": "code",
      "execution_count": 564,
      "metadata": {
        "id": "OwU-a7eGMsub"
      },
      "outputs": [],
      "source": [
        "# Search words that are joined by a '-' symbol without spaces between them\n",
        "pattern = r\"(?:\\s|\\A)+(\\w+-\\w+)\\S*(?:\\s|\\Z)+\" # Match words"
      ]
    },
    {
      "attachments": {},
      "cell_type": "markdown",
      "metadata": {},
      "source": [
        "Example"
      ]
    },
    {
      "cell_type": "code",
      "execution_count": 565,
      "metadata": {
        "id": "SgzIL74ZMtGw"
      },
      "outputs": [
        {
          "data": {
            "text/plain": [
              "['Go-Kart', 'another-example']"
            ]
          },
          "execution_count": 565,
          "metadata": {},
          "output_type": "execute_result"
        }
      ],
      "source": [
        "s = \"An example of Go-Kart, MaYBe not Go -Kart or Go- Kart. BUt another-example CORRECt\"\n",
        "re.findall(pattern, s)"
      ]
    },
    {
      "cell_type": "code",
      "execution_count": 566,
      "metadata": {},
      "outputs": [
        {
          "name": "stdout",
          "output_type": "stream",
          "text": [
            "Number of words found: 17\n"
          ]
        }
      ],
      "source": [
        "docs_11_array = [results for line in docs if len((results := re.findall(pattern, line))) > 0]\n",
        "docs_11 = [] # Empty array where to save all words\n",
        "# Iterate over each line and add all matches as independent words\n",
        "for d in docs_11_array:\n",
        "    docs_11.extend(d)\n",
        "\n",
        "print(f\"Number of words found: {len(docs_11)}\")"
      ]
    },
    {
      "cell_type": "code",
      "execution_count": 567,
      "metadata": {},
      "outputs": [
        {
          "data": {
            "text/plain": [
              "['flat-lined',\n",
              " 'hands-down',\n",
              " 'must-stop',\n",
              " 'sub-par',\n",
              " 'Service-check',\n",
              " 'in-house',\n",
              " 'been-stepped',\n",
              " 'multi-grain',\n",
              " 'to-go',\n",
              " 'non-customer',\n",
              " 'High-quality',\n",
              " 'sit-down',\n",
              " 'over-whelm',\n",
              " 'low-key',\n",
              " 'golden-crispy',\n",
              " 'over-priced',\n",
              " 'under-services']"
            ]
          },
          "execution_count": 567,
          "metadata": {},
          "output_type": "execute_result"
        }
      ],
      "source": [
        "docs_11"
      ]
    },
    {
      "cell_type": "markdown",
      "metadata": {
        "id": "DEIgl79HMthr"
      },
      "source": [
        "*   **Pregunta 12.**  \n",
        "\n",
        "Busca e imprime todas las palabras que terminan en \"ing\" o \"ed\". \n",
        "\n",
        "Indica la cantidad de palabras que encontraste de cada una."
      ]
    },
    {
      "cell_type": "code",
      "execution_count": 568,
      "metadata": {
        "id": "I4TSofBMMv9y"
      },
      "outputs": [],
      "source": [
        "# Search words that has 'ing' or 'ed' ending\n",
        "pattern = r\"(?:\\s|\\A)+(\\w+(?:ing|ed))\\S*(?:\\s|\\Z)+\" # Match words"
      ]
    },
    {
      "attachments": {},
      "cell_type": "markdown",
      "metadata": {},
      "source": [
        "Example"
      ]
    },
    {
      "cell_type": "code",
      "execution_count": 569,
      "metadata": {
        "id": "AhGq6De2Mvyh"
      },
      "outputs": [
        {
          "data": {
            "text/plain": [
              "['ending', 'loved', 'amazing']"
            ]
          },
          "execution_count": 569,
          "metadata": {},
          "output_type": "execute_result"
        }
      ],
      "source": [
        "s = \"An example of ending, MaYBe not. BUt another loved example is great and amazing\"\n",
        "re.findall(pattern, s)"
      ]
    },
    {
      "cell_type": "code",
      "execution_count": 570,
      "metadata": {},
      "outputs": [],
      "source": [
        "ing_pattern = r\"(?:\\s|\\A)+(\\w+ing)\\S*(?:\\s|\\Z)+\" # Match words\n",
        "docs_12_ing_array = [results for line in docs if len((results := re.findall(ing_pattern, line))) > 0]\n",
        "docs_12_ing = [] # Empty array where to save all words\n",
        "# Iterate over each line and add all matches as independent words\n",
        "for d in docs_12_ing_array:\n",
        "    docs_12_ing.extend(d)\n",
        "\n",
        "ed_pattern = r\"(?:\\s|\\A)+(\\w+ed)\\S*(?:\\s|\\Z)+\" # Match words\n",
        "docs_12_ed_array = [results for line in docs if len((results := re.findall(ed_pattern, line))) > 0]\n",
        "docs_12_ed = [] # Empty array where to save all words\n",
        "# Iterate over each line and add all matches as independent words\n",
        "for d in docs_12_ed_array:\n",
        "    docs_12_ed.extend(d)\n"
      ]
    },
    {
      "cell_type": "code",
      "execution_count": 571,
      "metadata": {},
      "outputs": [
        {
          "name": "stdout",
          "output_type": "stream",
          "text": [
            "Number of words found for both: 629 for 'ing': 290 and for 'ed': 353\n"
          ]
        }
      ],
      "source": [
        "docs_12_array = [results for line in docs if len((results := re.findall(pattern, line))) > 0]\n",
        "docs_12 = [] # Empty array where to save all words\n",
        "# Iterate over each line and add all matches as independent words\n",
        "for d in docs_12_array:\n",
        "    docs_12.extend(d)\n",
        "\n",
        "print(f\"Number of words found for both: {len(docs_12)} for 'ing': {len(docs_12_ing)} and for 'ed': {len(docs_12_ed)}\")"
      ]
    },
    {
      "cell_type": "code",
      "execution_count": 572,
      "metadata": {},
      "outputs": [
        {
          "name": "stdout",
          "output_type": "stream",
          "text": [
            "FOR BOTH: ['Loved', 'Stopped', 'during', 'loved', 'getting'] FOR ING: ['during', 'getting', 'being', 'being', 'amazing'] FOR ED: ['Loved', 'Stopped', 'loved', 'ended', 'overpriced']\n"
          ]
        }
      ],
      "source": [
        "print(f\"FOR BOTH: {docs_12[:5]} FOR ING: {docs_12_ing[:5]} FOR ED: {docs_12_ed[:5]}\")"
      ]
    },
    {
      "attachments": {},
      "cell_type": "markdown",
      "metadata": {
        "id": "70StdqAZa9E9"
      },
      "source": [
        "# **Parte 3. Proceso de limpieza.**"
      ]
    },
    {
      "cell_type": "markdown",
      "metadata": {
        "id": "xaDUFXHrMvX2"
      },
      "source": [
        "*   **Pregunta 13.**  \n",
        "\n",
        "Ahora realiza un proceso de limpieza del corpus que incluya los siguientes procesos:\n",
        "\n",
        "*   Solo se deben considerar caracteres alfabéticos. Es decir, se eliminan todos los signos de puntuación y caracteres especiales.\n",
        "*   Todos los caracteres alfabéticos se transforman a minúsculas.\n",
        "*   Se deben eliminar todos los espacios en blanco adicionales que se puedan encontrar en cada comentario.\n",
        "\n",
        "Al finalizar dicho proceso de limpieza, imprime el resultado de los primeros 10 comentarios resultantes. \n",
        "   \n",
        "\n",
        "\n"
      ]
    },
    {
      "cell_type": "code",
      "execution_count": 573,
      "metadata": {},
      "outputs": [
        {
          "data": {
            "text/plain": [
              "['Wow... Loved this place.\\n',\n",
              " 'Crust is not good.\\n',\n",
              " 'Not tasty and the texture was just nasty.\\n',\n",
              " 'Stopped by during the late May bank holiday off Rick Steve recommendation and loved it.\\n',\n",
              " 'The selection on the menu was great and so were the prices.\\n',\n",
              " 'Now I am getting angry and I want my damn pho.\\n',\n",
              " \"Honeslty it didn't taste THAT fresh.)\\n\",\n",
              " 'The potatoes were like rubber and you could tell they had been made up ahead of time being kept under a warmer.\\n',\n",
              " 'The fries were great too.\\n',\n",
              " 'A great touch.\\n']"
            ]
          },
          "execution_count": 573,
          "metadata": {},
          "output_type": "execute_result"
        }
      ],
      "source": [
        "corpus = docs\n",
        "corpus[:10]"
      ]
    },
    {
      "cell_type": "code",
      "execution_count": 574,
      "metadata": {
        "id": "K3kQzPOPMx0w"
      },
      "outputs": [
        {
          "data": {
            "text/plain": [
              "['Wow Loved this place',\n",
              " 'Crust is not good',\n",
              " 'Not tasty and the texture was just nasty',\n",
              " 'Stopped by during the late May bank holiday off Rick Steve recommendation and loved it',\n",
              " 'The selection on the menu was great and so were the prices',\n",
              " 'Now I am getting angry and I want my damn pho',\n",
              " \"Honeslty it didn't taste THAT fresh\",\n",
              " 'The potatoes were like rubber and you could tell they had been made up ahead of time being kept under a warmer',\n",
              " 'The fries were great too',\n",
              " 'A great touch']"
            ]
          },
          "execution_count": 574,
          "metadata": {},
          "output_type": "execute_result"
        }
      ],
      "source": [
        "# Delete all punctuation symbols and special characters, only keep alphabetic characters\n",
        "corpus_1 = [\" \".join(re.findall(r\"[A-Za-z'\\-]+\", line)) for line in corpus]\n",
        "corpus_1[:10]"
      ]
    },
    {
      "cell_type": "code",
      "execution_count": 575,
      "metadata": {},
      "outputs": [
        {
          "data": {
            "text/plain": [
              "['wow loved this place',\n",
              " 'crust is not good',\n",
              " 'not tasty and the texture was just nasty',\n",
              " 'stopped by during the late may bank holiday off rick steve recommendation and loved it',\n",
              " 'the selection on the menu was great and so were the prices',\n",
              " 'now i am getting angry and i want my damn pho',\n",
              " \"honeslty it didn't taste that fresh\",\n",
              " 'the potatoes were like rubber and you could tell they had been made up ahead of time being kept under a warmer',\n",
              " 'the fries were great too',\n",
              " 'a great touch']"
            ]
          },
          "execution_count": 575,
          "metadata": {},
          "output_type": "execute_result"
        }
      ],
      "source": [
        "# All characters to lower case\n",
        "corpus_1 = [line.lower() for line in corpus_1]\n",
        "corpus_1[:10]"
      ]
    },
    {
      "cell_type": "code",
      "execution_count": 576,
      "metadata": {},
      "outputs": [
        {
          "data": {
            "text/plain": [
              "['wow loved this place',\n",
              " 'crust is not good',\n",
              " 'not tasty and the texture was just nasty',\n",
              " 'stopped by during the late may bank holiday off rick steve recommendation and loved it',\n",
              " 'the selection on the menu was great and so were the prices',\n",
              " 'now i am getting angry and i want my damn pho',\n",
              " \"honeslty it didn't taste that fresh\",\n",
              " 'the potatoes were like rubber and you could tell they had been made up ahead of time being kept under a warmer',\n",
              " 'the fries were great too',\n",
              " 'a great touch']"
            ]
          },
          "execution_count": 576,
          "metadata": {},
          "output_type": "execute_result"
        }
      ],
      "source": [
        "# Extra spaces must be removed\n",
        "corpus_1 = [\" \".join(line.split()) for line in corpus_1]\n",
        "corpus_1[:10]"
      ]
    },
    {
      "cell_type": "code",
      "execution_count": 577,
      "metadata": {
        "id": "mYEDlHSFMyJN"
      },
      "outputs": [
        {
          "data": {
            "text/plain": [
              "['wow loved this place',\n",
              " 'crust is not good',\n",
              " 'not tasty and the texture was just nasty',\n",
              " 'stopped by during the late may bank holiday off rick steve recommendation and loved it',\n",
              " 'the selection on the menu was great and so were the prices',\n",
              " 'now i am getting angry and i want my damn pho',\n",
              " \"honeslty it didn't taste that fresh\",\n",
              " 'the potatoes were like rubber and you could tell they had been made up ahead of time being kept under a warmer',\n",
              " 'the fries were great too',\n",
              " 'a great touch']"
            ]
          },
          "execution_count": 577,
          "metadata": {},
          "output_type": "execute_result"
        }
      ],
      "source": [
        "# First 10 results\n",
        "corpus_1[:10]"
      ]
    },
    {
      "cell_type": "markdown",
      "metadata": {
        "id": "WZwEhg2lUSAX"
      },
      "source": [
        "*   **Pregunta 14.**  \n",
        "\n",
        "Con el resultado de la limpieza obtenido en la pregunta anterior, realiza ahora un proceso de tokenización por palabras del corpus. \n",
        "\n",
        "Es decir, al final de este proceso de tokenización, debes tener como resultado una lista de listas, donde cada comentario estará tokenizado por palabras.\n",
        "\n",
        "Al terminar calcula el total de tokens obtenido en todo el corpus. "
      ]
    },
    {
      "cell_type": "code",
      "execution_count": 578,
      "metadata": {
        "id": "kbAL9-v0V-jx"
      },
      "outputs": [
        {
          "data": {
            "text/plain": [
              "[['wow', 'loved', 'this', 'place'],\n",
              " ['crust', 'is', 'not', 'good'],\n",
              " ['not', 'tasty', 'and', 'the', 'texture', 'was', 'just', 'nasty']]"
            ]
          },
          "execution_count": 578,
          "metadata": {},
          "output_type": "execute_result"
        }
      ],
      "source": [
        "# Tokenize the corpus\n",
        "tokens = [line.split() for line in corpus_1]\n",
        "tokens[:3]"
      ]
    },
    {
      "cell_type": "code",
      "execution_count": 579,
      "metadata": {},
      "outputs": [
        {
          "name": "stdout",
          "output_type": "stream",
          "text": [
            "Number of tokens in the whole corpus: 10831\n"
          ]
        }
      ],
      "source": [
        "# Count the number of words in the corpus\n",
        "print(f\"Number of tokens in the whole corpus: {sum([len(line) for line in corpus_2])}\")"
      ]
    },
    {
      "cell_type": "markdown",
      "metadata": {
        "id": "EFeu0OJ7WDPD"
      },
      "source": [
        "*   **Pregunta 15.**  \n",
        "\n",
        "Finalmente, en este ejercicio definiremos nuestro conjunto de palabras \"stopwords\", las cuales deberás eliminar de todo el corpus. \n",
        "\n",
        "Recuerda que ejemplos de stopwords son artículos, adverbios, conectivos, etcétera, que tienen frecuencias de aparición muy altas en cualquier documento, pero que no brindan mucho significado en cuanto al significado de un enunciado.\n",
        "\n",
        "Con base a la lista de stopwords que se te proporciona, realiza un proceso de limpieza eliminando todas estas palabras del corpus obtenido en el ejercicio anterior.\n",
        "\n",
        "Obtener cuántos tokens/palabras quedan finalmente en todo el corpus.\n",
        "\n",
        "Obtener cuántos de estos tokens/palabras son diferentes, es decir, cuántos tokens únicos tendrá lo que llamaremos más adelante nuestro vocabulario."
      ]
    },
    {
      "cell_type": "code",
      "execution_count": 580,
      "metadata": {
        "id": "6FP4FF3KXGxm"
      },
      "outputs": [],
      "source": [
        "# Considera la siguiente lista como tu conjunto de stopwords:\n",
        "mis_stopwords = ['i', 'me', 'my', 'myself', 'we', 'our', 'ours', 'ourselves', 'you', 'your', 'yours', 'he', 'him', 'his', 'himself', 'she', 'her', 'hers', 'herself', 'it', 'its', 'itself', 'they', 'them', 'their', 'theirs', 'themselves', 'what', 'which', 'who', 'whom', 'this', 'that', 'these', 'those', 'am', 'is', 'are', 'was', 'were', 'be', 'been', 'being', 'have', 'has', 'had', 'having', 'do', 'does', 'did', 'doing', 'a', 'an', 'the', 'and', 'but', 'if', 'or', 'because', 'as', 'until', 'while', 'of', 'at', 'by', 'for', 'with', 'about', 'against', 'between', 'into', 'through', 'during', 'before', 'after', 'above', 'below', 'to', 'from', 'up', 'down', 'in', 'out', 'on', 'over', 'under', 'again', 'further', 'then', 'once', 'here', 'there', 'when', 'where', 'why', 'how', 'all', 'any', 'both', 'each', 'few', 'more', 'most', 'other', 'some', 'such', 'only', 'own', 'same', 'so', 'than', 'too', 'very', 's', 't', 'can', 'will', 'just', 'should', 'now', 'll']"
      ]
    },
    {
      "cell_type": "code",
      "execution_count": 581,
      "metadata": {
        "id": "CD8yjyq1ZrwY"
      },
      "outputs": [
        {
          "data": {
            "text/plain": [
              "[['wow', 'loved', 'place'],\n",
              " ['crust', 'not', 'good'],\n",
              " ['not', 'tasty', 'texture', 'nasty']]"
            ]
          },
          "execution_count": 581,
          "metadata": {},
          "output_type": "execute_result"
        }
      ],
      "source": [
        "# Remove all stopwords from the corpus\n",
        "tokens_clean = [[word for word in line if word not in mis_stopwords] for line in tokens]\n",
        "tokens_clean[:3]"
      ]
    },
    {
      "cell_type": "code",
      "execution_count": 582,
      "metadata": {
        "id": "4ZPi5prKZro5"
      },
      "outputs": [
        {
          "name": "stdout",
          "output_type": "stream",
          "text": [
            "Number of unique tokens in the corpus: 1948\n"
          ]
        }
      ],
      "source": [
        "# Make a set with the unique tokens in the corpus\n",
        "unique_tokens = set()\n",
        "for line in tokens_clean:\n",
        "    for word in line:\n",
        "        unique_tokens.add(word)\n",
        "\n",
        "print(f\"Number of unique tokens in the corpus: {len(unique_tokens)}\")"
      ]
    },
    {
      "cell_type": "markdown",
      "metadata": {
        "id": "NDbKkuxRbLoX"
      },
      "source": [
        "*   **Comentarios**\n",
        "\n",
        "Incluye finalmente tus comentarios de la actividad."
      ]
    },
    {
      "attachments": {},
      "cell_type": "markdown",
      "metadata": {
        "id": "o7fzbvqVbUGr"
      },
      "source": [
        "Actividad bastante interesante y curiosa dado que es necesario considerar todas las posibilidades que pudieran existir al hacer el proceso de regex, como por ejemplo si se van a considerar palabras con signos extras o no, o incluso mal escritas, o en combinación de mayúsculas o minúsculas.\n",
        "\n",
        "Por otra parte, una vez culminando con esto, el proceso de hacer los tokens es bastante interesate, y pudiera ser hasta más un arte que una ciencia, ya que son muchas decisiones tomadas por el *clasificador* de los datos."
      ]
    },
    {
      "attachments": {},
      "cell_type": "markdown",
      "metadata": {
        "id": "PHaKw_6Ldbaf"
      },
      "source": [
        "## **Fin de la Actividad de la semana 2.**"
      ]
    }
  ],
  "metadata": {
    "colab": {
      "collapsed_sections": [
        "759SG4TyfbUn",
        "Zj-h4drXD-X9",
        "BY6yifxscfrx",
        "k_ewoagic5jc",
        "70StdqAZa9E9"
      ],
      "provenance": []
    },
    "kernelspec": {
      "display_name": "Python 3",
      "name": "python3"
    },
    "language_info": {
      "codemirror_mode": {
        "name": "ipython",
        "version": 3
      },
      "file_extension": ".py",
      "mimetype": "text/x-python",
      "name": "python",
      "nbconvert_exporter": "python",
      "pygments_lexer": "ipython3",
      "version": "3.9.6"
    }
  },
  "nbformat": 4,
  "nbformat_minor": 0
}
